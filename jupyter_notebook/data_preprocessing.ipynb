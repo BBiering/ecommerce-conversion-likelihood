{
 "cells": [
  {
   "cell_type": "code",
   "execution_count": 1,
   "metadata": {
    "collapsed": true,
    "slideshow": {
     "slide_type": "slide"
    }
   },
   "outputs": [],
   "source": [
    "# import libraries\n",
    "import pandas as pd\n",
    "import random\n",
    "import os"
   ]
  },
  {
   "cell_type": "code",
   "execution_count": 2,
   "metadata": {
    "collapsed": false
   },
   "outputs": [
    {
     "name": "stdout",
     "output_type": "stream",
     "text": [
      "CPU times: user 4min 12s, sys: 1min 44s, total: 5min 56s\n",
      "Wall time: 6min 15s\n"
     ]
    }
   ],
   "source": [
    "%%time\n",
    "# import raw training data\n",
    "root_path = os.path.abspath(os.path.join(os.getcwd(), os.pardir))\n",
    "data_path = '/data/'\n",
    "filename = 'unsampled_input_data.csv'\n",
    "df = pd.read_csv(root_path + data_path + filename)"
   ]
  },
  {
   "cell_type": "code",
   "execution_count": 3,
   "metadata": {
    "collapsed": true
   },
   "outputs": [],
   "source": [
    "# sample the session ids\n",
    "# doesn't work when too many indexes...\n",
    "# def some(x, n):\n",
    "#     return x.loc[random.sample(x.index.values.tolist(), n),:]"
   ]
  },
  {
   "cell_type": "code",
   "execution_count": 10,
   "metadata": {
    "collapsed": true
   },
   "outputs": [],
   "source": [
    "# sample the session ids\n",
    "def some(x, n):\n",
    "    return x.ix[random.sample(x.index.values.tolist(), n)]"
   ]
  },
  {
   "cell_type": "code",
   "execution_count": 4,
   "metadata": {
    "collapsed": false
   },
   "outputs": [
    {
     "name": "stdout",
     "output_type": "stream",
     "text": [
      "CPU times: user 9.49 s, sys: 49 s, total: 58.5 s\n",
      "Wall time: 1min 14s\n"
     ]
    }
   ],
   "source": [
    "%%time\n",
    "# remove unwanted columns\n",
    "df.drop(['campaign_id', 'geoip_region', 'geoip_city_location_id'], axis=1, inplace=True)"
   ]
  },
  {
   "cell_type": "code",
   "execution_count": 5,
   "metadata": {
    "collapsed": false
   },
   "outputs": [
    {
     "name": "stdout",
     "output_type": "stream",
     "text": [
      "CPU times: user 1min 47s, sys: 2min 47s, total: 4min 34s\n",
      "Wall time: 5min 11s\n"
     ]
    }
   ],
   "source": [
    "%%time\n",
    "# create checkout feature on page level\n",
    "df['checkout_page'] = df['is_checkout_page'].str.contains(u't').astype(int)\n",
    "# remove original checkout column\n",
    "df.drop(['is_checkout_page'], axis=1, inplace=True)\n",
    "\n",
    "# create checkout feature on session level\n",
    "df_temp_co = df.groupby(by=['session_id'])['checkout_page'].max()\n",
    "dfj_co = pd.DataFrame()\n",
    "dfj_co['session_id'] = df_temp_co.index\n",
    "dfj_co['checkout_visit'] = df_temp_co.values\n",
    "dfj_co.columns = ['session_id','checkout_visit']\n",
    "df = pd.merge(df, dfj_co, how='left', on='session_id')\n",
    "\n",
    "# remove original checkout_page column\n",
    "df.drop(['checkout_page'], axis=1, inplace=True)"
   ]
  },
  {
   "cell_type": "markdown",
   "metadata": {},
   "source": [
    "# Check the primaric traffic sources"
   ]
  },
  {
   "cell_type": "code",
   "execution_count": null,
   "metadata": {
    "collapsed": true
   },
   "outputs": [],
   "source": [
    "# for info\n",
    "len(df.query(\"checkout_visit == 1\").groupby(['session_id','source_first']))\n",
    "df.query(\"checkout_visit == 1\").groupby(['source_first']).count().sort_values(by='session_id', ascending=False)"
   ]
  },
  {
   "cell_type": "markdown",
   "metadata": {},
   "source": [
    "# Rebalance dataset if imbalanced"
   ]
  },
  {
   "cell_type": "code",
   "execution_count": 8,
   "metadata": {
    "collapsed": false
   },
   "outputs": [],
   "source": [
    "%%time\n",
    "# list all unique values of session id where checkout page = 1\n",
    "converters = pd.Series(df.query(\"checkout_visit > 0\").session_id.unique()) \n",
    "# list all unique values of session id where checkout page = 0\n",
    "non_converters = pd.Series(df.query(\"checkout_visit == 0\").session_id.unique())"
   ]
  },
  {
   "cell_type": "code",
   "execution_count": 11,
   "metadata": {
    "collapsed": false
   },
   "outputs": [
    {
     "name": "stderr",
     "output_type": "stream",
     "text": [
      "/Users/bbelmudez/anaconda/lib/python3.6/site-packages/ipykernel/__main__.py:3: DeprecationWarning: \n",
      ".ix is deprecated. Please use\n",
      ".loc for label based indexing or\n",
      ".iloc for positional indexing\n",
      "\n",
      "See the documentation here:\n",
      "http://pandas.pydata.org/pandas-docs/stable/indexing.html#ix-indexer-is-deprecated\n",
      "  app.launch_new_instance()\n"
     ]
    },
    {
     "name": "stdout",
     "output_type": "stream",
     "text": [
      "CPU times: user 38 s, sys: 37.4 s, total: 1min 15s\n",
      "Wall time: 1min 26s\n"
     ]
    }
   ],
   "source": [
    "%%time\n",
    "# filter the original data frame to only retain the selected session ids\n",
    "ind = some(non_converters,len(converters))\n",
    "df_filtered = df[df.session_id.isin(ind.values) | df.query(\"checkout_visit > 0\").session_id]"
   ]
  },
  {
   "cell_type": "code",
   "execution_count": 12,
   "metadata": {
    "collapsed": false
   },
   "outputs": [],
   "source": [
    "# # Verify if sampling is successful, i.e. both classes are equal size \n",
    "# # list all unique values of session id where checkout page = 1\n",
    "# cnvrtrs_unique = len(pd.Series(df_filtered.query(\"checkout_visit > 0\").session_id.unique()))\n",
    "# # list all unique values of session id where checkout page = 0\n",
    "# nn_cnvrtrs_unique = len(pd.Series(df_filtered.query(\"checkout_visit == 0\").session_id.unique()))\n",
    "# # assert class sizes\n",
    "# if cnvrtrs_unique != nn_cnvrtrs_unique:\n",
    "#     print(\"Resampling failed!\")\n",
    "# else:\n",
    "#     print(\"Resampling succeeded\")"
   ]
  },
  {
   "cell_type": "markdown",
   "metadata": {},
   "source": [
    "## Create features ##"
   ]
  },
  {
   "cell_type": "code",
   "execution_count": 14,
   "metadata": {
    "collapsed": true
   },
   "outputs": [],
   "source": [
    "del df\n",
    "df = df_filtered"
   ]
  },
  {
   "cell_type": "code",
   "execution_count": 15,
   "metadata": {
    "collapsed": false
   },
   "outputs": [
    {
     "name": "stdout",
     "output_type": "stream",
     "text": [
      "CPU times: user 11 s, sys: 363 ms, total: 11.3 s\n",
      "Wall time: 11.5 s\n"
     ]
    }
   ],
   "source": [
    "%%time\n",
    "# create traffic source feature on session level\n",
    "df_temp_so = df.groupby(df.session_id)['pageview_time'].min()\n",
    "df_so = df.loc[df['session_id'].isin(df_temp_so.index) &\n",
    "               df['pageview_time'].isin(df_temp_so.values), ['session_id', 'source']]\n",
    "df_so.reset_index(inplace=True, drop=True)\n",
    "df_so.columns = ['session_id', 'source_first']\n",
    "df = pd.merge(df, df_so, how='left', on='session_id')\n",
    "\n",
    "# alternatively, category encode it\n",
    "df['source_id'] = pd.Categorical(df.source_first).codes\n",
    "\n",
    "# remove original source column\n",
    "df.drop(['source'], axis=1, inplace=True)\n",
    "df.drop(['source_first'], axis=1, inplace=True)"
   ]
  },
  {
   "cell_type": "code",
   "execution_count": 16,
   "metadata": {
    "collapsed": false
   },
   "outputs": [],
   "source": [
    "# %%time\n",
    "# format the date column into pandas datetime format\n",
    "df['date_fmt'] = pd.to_datetime(df['pageview_time'], infer_datetime_format=True, errors='coerce')\n",
    "\n",
    "# remove original date column\n",
    "df.drop(['pageview_time'], axis=1, inplace=True)"
   ]
  },
  {
   "cell_type": "code",
   "execution_count": 17,
   "metadata": {
    "collapsed": false
   },
   "outputs": [],
   "source": [
    "# %%time\n",
    "# inferring device type from user_agent\n",
    "device_list = []\n",
    "for row in df.index:\n",
    "    try:\n",
    "        device = df['user_agent'][row].split('0 (')[1].split(') ')[0].split(';')[0].split(' ')[0]\n",
    "        device_list.append(device)\n",
    "    except IndexError:\n",
    "        device_list.append(np.nan)\n",
    "    except AttributeError:\n",
    "        device_list.append(np.nan)\n",
    "\n",
    "df['device'] = Series(device_list, name = 'device')\n",
    "\n",
    "other_device = set(unique(device_list)) - {'Windows','Macintosh','iPad','iPhone','Android',\n",
    "                                           'iPod','Linux','Mobile','compatible','BB10'}\n",
    "df.device = df.device.replace('iPad','tablet')\n",
    "df.device = df.device.replace('Linux','phone')\n",
    "df.device = df.device.replace('Android','phone')\n",
    "df.device = df.device.replace('compatible','desktop')\n",
    "df.device = df.device.replace('Mobile','mobile')\n",
    "df.device = df.device.replace('BB10','mobile')\n",
    "df.device = df.device.replace('Macintosh','desktop')\n",
    "df.device = df.device.replace('iPhone','mobile')\n",
    "df.device = df.device.replace('iPod','mobile')\n",
    "df.device = df.device.replace('Windows','desktop')\n",
    "\n",
    "for name in other_device:\n",
    "    df.device = df.device.replace(name,'other')\n",
    "\n",
    "# label encode the device dimension    \n",
    "# le_dev = LabelEncoder()\n",
    "# le_dev.fit(df['device'].unique())\n",
    "# df['device_id'] = le_dev.transform(df.device)\n",
    "\n",
    "# alternatively, category encode it\n",
    "df['device_id'] = pd.Categorical(df.device).codes\n",
    "\n",
    "# remove original user agent column\n",
    "df.drop(['user_agent'], axis=1, inplace=True)\n",
    "df.drop(['device'], axis=1, inplace=True)"
   ]
  },
  {
   "cell_type": "code",
   "execution_count": 18,
   "metadata": {
    "collapsed": false
   },
   "outputs": [],
   "source": [
    "# %%time\n",
    "# label encode geo country codes\n",
    "# le_cc = LabelEncoder()\n",
    "# le_cc.fit(df['geoip_country_code'].unique())\n",
    "# df['country_id'] = le_cc.transform(df.geoip_country_code)\n",
    "\n",
    "# alternatively, category encode geo country codes\n",
    "df['country_id'] = pd.Categorical(df.geoip_country_code).codes\n",
    "\n",
    "# clean up city names and label encode\n",
    "df.geoip_city = df.geoip_city.str.replace('Ĺ\\x99', 'ø', n=-1, case=True, flags=0)\n",
    "df.geoip_city = df.geoip_city.str.replace('Äš', 'å', n=-1, case=True, flags=0)\n",
    "df.geoip_city = df.geoip_city.str.replace('Ä\\x87', 'æ', n=-1, case=True, flags=0)\n",
    "df.geoip_city = df.geoip_city.str.replace('Ĺ\\x98', 'ø', n=-1, case=True, flags=0)\n",
    "df.geoip_city = df.geoip_city.str.replace('Äş', 'å', n=-1, case=True, flags=0)\n",
    "df.geoip_city = df.geoip_city.str.replace('Ăś', 'ø', n=-1, case=True, flags=0)\n",
    "df.geoip_city = df.geoip_city.str.replace('Ă¤', 'ø', n=-1, case=True, flags=0)\n",
    "df.geoip_city = df.geoip_city.str.replace('ĂŠ', 'é', n=-1, case=True, flags=0)\n",
    "df.geoip_city = df.geoip_city.str.replace('ĂĄ', 'á', n=-1, case=True, flags=0)\n",
    "replacers = [None, np.nan, \"None\", \"NaN\", \"nan\"]\n",
    "df.geoip_city.replace(replacers, '', inplace=True)\n",
    "df.geoip_city = df.geoip_city.str.lower()\n",
    "\n",
    "# label encode geo country codes\n",
    "# le_cn = LabelEncoder()\n",
    "# le_cn.fit(df['geoip_city'].unique())\n",
    "# df['city_id'] = le_cn.transform(df.geoip_city)\n",
    "\n",
    "# alternatively, category encode it\n",
    "df['city_id'] = pd.Categorical(df.geoip_city).codes\n",
    "\n",
    "# remove original country column\n",
    "df.drop(['geoip_country_code'], axis=1, inplace=True)\n",
    "df.drop(['geoip_city'], axis=1, inplace=True)"
   ]
  },
  {
   "cell_type": "code",
   "execution_count": 19,
   "metadata": {
    "collapsed": false
   },
   "outputs": [],
   "source": [
    "# %%time\n",
    "# calculate visit duration\n",
    "for sess_id in df.session_id.unique():\n",
    "    tmax = df.loc[df.session_id == sess_id, 'date_fmt'].max()\n",
    "    tmin = df.loc[df.session_id == sess_id, 'date_fmt'].min()\n",
    "    df.loc[df.session_id == sess_id, 'visit_len'] = pd.Timedelta(tmax - tmin).seconds"
   ]
  },
  {
   "cell_type": "code",
   "execution_count": 20,
   "metadata": {
    "collapsed": true
   },
   "outputs": [],
   "source": [
    "# calculate number of pageviews per visit\n",
    "df_temp_pv = df.groupby(by='session_id')['pageview_url'].count()\n",
    "dfj_pv = pd.DataFrame()\n",
    "dfj_pv['session_id'] = df_temp_pv.index\n",
    "dfj_pv['pageviews'] = df_temp_pv.values\n",
    "dfj_pv.columns = ['session_id','pageviews']\n",
    "df = pd.merge(df, dfj_pv, how='left', on='session_id')"
   ]
  },
  {
   "cell_type": "code",
   "execution_count": 21,
   "metadata": {
    "collapsed": true
   },
   "outputs": [],
   "source": [
    "# has visited customer service page\n",
    "df['cust_serv_page'] = df['pageview_url'].str.contains(u'kundeservice').astype(int)\n",
    "\n",
    "# attribute the flag to the session\n",
    "df_temp_cs = df.groupby(by='session_id')['cust_serv_page'].max()\n",
    "dfj_cs = pd.DataFrame()\n",
    "dfj_cs['session_id'] = df_temp_cs.index\n",
    "dfj_cs['cust_serv_visit'] = df_temp_cs.values\n",
    "dfj_cs.columns = ['session_id','cust_serv_visit']\n",
    "df = pd.merge(df, dfj_cs, how='left', on='session_id')\n",
    "\n",
    "# remove page-level variable\n",
    "df.drop(['cust_serv_page'], axis=1, inplace=True)"
   ]
  },
  {
   "cell_type": "code",
   "execution_count": 22,
   "metadata": {
    "collapsed": false
   },
   "outputs": [],
   "source": [
    "# calculate starting timestamp for a session\n",
    "df_temp_psess = df[['session_id','date_fmt']]\n",
    "df_temp_psess.is_copy = False\n",
    "\n",
    "# aggregate the column by session id and take the min date, i.e. when the session started\n",
    "dfg_psess = df_temp_psess.groupby(by='session_id')['date_fmt'].min()\n",
    "dfj_psess = pd.DataFrame()\n",
    "dfj_psess['session_id'] = dfg_psess.index\n",
    "dfj_psess['date'] = dfg_psess.values\n",
    "dfj_psess.columns = ['session_id','date']\n",
    "df = pd.merge(df, dfj_psess, how='left', on='session_id')\n",
    "\n",
    "# remove page-level date\n",
    "df.drop(['date_fmt'], axis=1, inplace=True)"
   ]
  },
  {
   "cell_type": "code",
   "execution_count": 23,
   "metadata": {
    "collapsed": false
   },
   "outputs": [],
   "source": [
    "# remove URL info - i.e. groupby session_id\n",
    "df.drop(['pageview_url'], axis=1, inplace=True)\n",
    "df.drop_duplicates(inplace=True)\n",
    "df.reset_index(drop=True, inplace=True)"
   ]
  },
  {
   "cell_type": "code",
   "execution_count": 24,
   "metadata": {
    "collapsed": false
   },
   "outputs": [],
   "source": [
    "# %%time\n",
    "# calculate nb of past visits \n",
    "\n",
    "# add a count column for \n",
    "df['count'] = 1\n",
    "\n",
    "# sort the df by session_id\n",
    "df.sort_values(['visitor_id','session_id'], ascending=True, inplace=True)\n",
    "\n",
    "# create a column with cumulated values\n",
    "for user_id in df.visitor_id.unique():\n",
    "    df.loc[df.visitor_id == user_id, 'nb_past_visits'] = df.loc[df.visitor_id == user_id, 'count']\\\n",
    "                                                           .cumsum() - 1\n",
    "    df.loc[df.visitor_id == user_id, 'is_customer'] = df.loc[df.visitor_id == user_id, 'cust_serv_visit']\\\n",
    "                                                        .cumsum() - 1\n",
    "        \n",
    "df.is_customer.replace(to_replace=-1, value=0, inplace=True)# drop date_min and count\n",
    "df.drop(['count'], axis=1, inplace=True)"
   ]
  },
  {
   "cell_type": "code",
   "execution_count": 25,
   "metadata": {
    "collapsed": false
   },
   "outputs": [
    {
     "name": "stdout",
     "output_type": "stream",
     "text": [
      "CPU times: user 5min 10s, sys: 1.56 s, total: 5min 11s\n",
      "Wall time: 5min 12s\n"
     ]
    }
   ],
   "source": [
    "# %%time\n",
    "# calculate the number of past conversions\n",
    "\n",
    "# sort the df by session_id\n",
    "df.sort_values(['visitor_id','session_id'], ascending=True, inplace=True)\n",
    "\n",
    "# create a column with cumulated values\n",
    "for user_id in df.visitor_id.unique():\n",
    "    df_count = df.loc[df.visitor_id == user_id, 'checkout_visit'].shift()\n",
    "    df_count.fillna(0, inplace=True)\n",
    "    df.loc[df.visitor_id == user_id, 'nb_past_checkouts'] = df_count.cumsum()"
   ]
  },
  {
   "cell_type": "code",
   "execution_count": 26,
   "metadata": {
    "collapsed": false
   },
   "outputs": [
    {
     "name": "stdout",
     "output_type": "stream",
     "text": [
      "CPU times: user 10min 19s, sys: 4.11 s, total: 10min 23s\n",
      "Wall time: 10min 25s\n"
     ]
    }
   ],
   "source": [
    "# %%time\n",
    "# calculate the last number of pageviews and session duration\n",
    "\n",
    "# sort the df by session_id\n",
    "df.sort_values(['visitor_id','session_id'], ascending=True, inplace=True)\n",
    "\n",
    "# create a column with cumulated values\n",
    "for user_id in df.visitor_id.unique():\n",
    "    df_pv_count = df.loc[df.visitor_id == user_id, 'pageviews'].shift(1)\n",
    "    df_sd_count = df.loc[df.visitor_id == user_id, 'visit_len'].shift(1)\n",
    "    df_pv_count.fillna(0, inplace=True)\n",
    "    df_sd_count.fillna(0, inplace=True)\n",
    "    df.loc[df.visitor_id == user_id, 'last_pageviews'] = df_pv_count\n",
    "    df.loc[df.visitor_id == user_id, 'last_visit_len'] = df_sd_count"
   ]
  },
  {
   "cell_type": "markdown",
   "metadata": {},
   "source": [
    "## Save feature dataframe to file"
   ]
  },
  {
   "cell_type": "code",
   "execution_count": 28,
   "metadata": {
    "collapsed": true
   },
   "outputs": [],
   "source": [
    "# save the dataframe in a file\n",
    "df.to_pickle(root_path + data_path + 'input_file.pkl')"
   ]
  }
 ],
 "metadata": {
  "kernelspec": {
   "display_name": "Python 3",
   "language": "python",
   "name": "python3"
  },
  "language_info": {
   "codemirror_mode": {
    "name": "ipython",
    "version": 3
   },
   "file_extension": ".py",
   "mimetype": "text/x-python",
   "name": "python",
   "nbconvert_exporter": "python",
   "pygments_lexer": "ipython3",
   "version": "3.6.0"
  }
 },
 "nbformat": 4,
 "nbformat_minor": 0
}
